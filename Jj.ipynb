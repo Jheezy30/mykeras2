{
 "cells": [
  {
   "cell_type": "code",
   "execution_count": 1,
   "id": "70e95171-2ea7-4fcf-b04a-b955a9507cb3",
   "metadata": {},
   "outputs": [
    {
     "name": "stdout",
     "output_type": "stream",
     "text": [
      "WARNING:tensorflow:Please fix your imports. Module tensorflow.python.training.saving.functional_saver has been moved to tensorflow.python.checkpoint.functional_saver. The old module will be deleted in version 2.11.\n",
      "WARNING:tensorflow:Please fix your imports. Module tensorflow.python.training.saving.checkpoint_options has been moved to tensorflow.python.checkpoint.checkpoint_options. The old module will be deleted in version 2.11.\n"
     ]
    }
   ],
   "source": [
    "import os\n",
    "os.environ['TF_CPP_MIN_LOG_LEVEL'] = \"2\"\n",
    "import tensorflow as tf"
   ]
  },
  {
   "cell_type": "code",
   "execution_count": 2,
   "id": "d213a7fb-a417-4a56-a22e-f1da7f4a28c3",
   "metadata": {},
   "outputs": [],
   "source": [
    "from tensorflow import keras \n",
    "from keras.layers import Dense,Input \n",
    "from keras.datasets import mnist\n",
    "from keras.models import Sequential \n",
    "from keras.optimizers import SGD\n",
    "import matplotlib.pyplot as plt\n",
    "from keras.utils import to_categorical\n",
    "import numpy as np\n",
    "\n",
    "\n"
   ]
  },
  {
   "cell_type": "code",
   "execution_count": 3,
   "id": "24cb74a4-aae5-4d5e-8f37-bcd6fad236af",
   "metadata": {},
   "outputs": [],
   "source": [
    "(Xtrain , Ytrain),(Xtest , Ytest) = mnist.load_data()"
   ]
  },
  {
   "cell_type": "code",
   "execution_count": 6,
   "id": "81352ccd-17ad-4b45-93ca-4c9d1b2d3c76",
   "metadata": {},
   "outputs": [
    {
     "data": {
      "text/plain": [
       "(60000, 28, 28)"
      ]
     },
     "execution_count": 6,
     "metadata": {},
     "output_type": "execute_result"
    }
   ],
   "source": [
    "Xtrain.shape"
   ]
  },
  {
   "cell_type": "code",
   "execution_count": 8,
   "id": "72422b25-b0a6-4345-bc70-59f655f8fe4b",
   "metadata": {},
   "outputs": [
    {
     "name": "stdout",
     "output_type": "stream",
     "text": [
      "Model: \"my_model\"\n",
      "_________________________________________________________________\n",
      " Layer (type)                Output Shape              Param #   \n",
      "=================================================================\n",
      " first_layer (Dense)         (None, 512)               401920    \n",
      "                                                                 \n",
      " second_layer (Dense)        (None, 512)               262656    \n",
      "                                                                 \n",
      " output_layer (Dense)        (None, 10)                5130      \n",
      "                                                                 \n",
      "=================================================================\n",
      "Total params: 669,706\n",
      "Trainable params: 669,706\n",
      "Non-trainable params: 0\n",
      "_________________________________________________________________\n"
     ]
    }
   ],
   "source": [
    "model = Sequential(name= 'my_model')\n",
    "model.add(Input(shape=(28*28,)))\n",
    "model.add(Dense(512, activation='relu' , name ='first_layer'))\n",
    "model.add(Dense(512, activation='relu' , name='second_layer'))\n",
    "model.add(Dense(10, activation='softmax', name='output_layer'))\n",
    "model.compile(optimizer='rmsprop', loss= 'categorical_crossentropy', metrics=['accuracy'])\n",
    "model.summary()\n",
    "\n"
   ]
  },
  {
   "cell_type": "code",
   "execution_count": 11,
   "id": "ba643c60-e9db-4195-a6f3-9640f37019fc",
   "metadata": {},
   "outputs": [],
   "source": [
    "Xtrain = Xtrain.astype('float32')\n",
    "Xtrain = Xtrain/255\n",
    "Xtest = Xtest.astype('float32')\n",
    "Xtest = Xtest/255\n",
    "Xtrain = Xtrain.reshape((60000,28*28))\n",
    "Xtest = Xtest.reshape((10000, 28*28))\n",
    "scale_Ytrain = to_categorical(Ytrain)\n",
    "scale_Ytest = to_categorical(Ytest)\n",
    "\n"
   ]
  },
  {
   "cell_type": "code",
   "execution_count": 16,
   "id": "351fd8c1-36ff-4c5e-a4c1-0d9c2cdf5e33",
   "metadata": {},
   "outputs": [
    {
     "data": {
      "text/plain": [
       "(60000, 10)"
      ]
     },
     "execution_count": 16,
     "metadata": {},
     "output_type": "execute_result"
    }
   ],
   "source": [
    "scale_Ytrain.shape"
   ]
  },
  {
   "cell_type": "code",
   "execution_count": 17,
   "id": "eaddda78-83fd-43d9-96c2-9bffe6406283",
   "metadata": {},
   "outputs": [
    {
     "data": {
      "text/plain": [
       "(5000, 784)"
      ]
     },
     "execution_count": 17,
     "metadata": {},
     "output_type": "execute_result"
    }
   ],
   "source": [
    "new_testX , valX = Xtest[:5000] , Xtest[5000:]\n",
    "valX.shape"
   ]
  },
  {
   "cell_type": "code",
   "execution_count": 25,
   "id": "6389c02a-3e2d-40d8-b66c-7abc5758f72a",
   "metadata": {},
   "outputs": [],
   "source": [
    "new_testY , valY = Ytest[:5000], Ytest[5000:]\n",
    "new_testY = to_categorical(valY)\n",
    "n_valY = to_categorical(valY)"
   ]
  },
  {
   "cell_type": "code",
   "execution_count": 26,
   "id": "37132883-588e-4e53-b320-d206143093ff",
   "metadata": {},
   "outputs": [
    {
     "data": {
      "text/plain": [
       "(5000, 10)"
      ]
     },
     "execution_count": 26,
     "metadata": {},
     "output_type": "execute_result"
    }
   ],
   "source": [
    "n_valY.shape"
   ]
  },
  {
   "cell_type": "code",
   "execution_count": null,
   "id": "b2358e96-0cea-406a-a569-7bf7fbde3a66",
   "metadata": {},
   "outputs": [
    {
     "name": "stdout",
     "output_type": "stream",
     "text": [
      "Epoch 1/30\n",
      "60000/60000 [==============================] - 658s 11ms/step - loss: 0.2327 - accuracy: 0.9810 - val_loss: 0.2861 - val_accuracy: 0.9838\n",
      "Epoch 2/30\n",
      "60000/60000 [==============================] - 643s 11ms/step - loss: 0.2123 - accuracy: 0.9845 - val_loss: 0.2339 - val_accuracy: 0.9840\n",
      "Epoch 3/30\n",
      "60000/60000 [==============================] - 763s 13ms/step - loss: 0.1937 - accuracy: 0.9863 - val_loss: 0.2575 - val_accuracy: 0.9858\n",
      "Epoch 4/30\n",
      "60000/60000 [==============================] - 723s 12ms/step - loss: 0.1812 - accuracy: 0.9879 - val_loss: 0.4386 - val_accuracy: 0.9842\n",
      "Epoch 5/30\n",
      "60000/60000 [==============================] - 648s 11ms/step - loss: 0.1696 - accuracy: 0.9888 - val_loss: 0.3011 - val_accuracy: 0.9862\n",
      "Epoch 6/30\n",
      "60000/60000 [==============================] - 662s 11ms/step - loss: 0.1627 - accuracy: 0.9900 - val_loss: 0.2482 - val_accuracy: 0.9872\n",
      "Epoch 7/30\n",
      "60000/60000 [==============================] - 692s 12ms/step - loss: 0.1415 - accuracy: 0.9907 - val_loss: 0.2998 - val_accuracy: 0.9876\n",
      "Epoch 8/30\n",
      "17168/60000 [=======>......................] - ETA: 8:05 - loss: 0.1191 - accuracy: 0.9921"
     ]
    }
   ],
   "source": [
    "history = model.fit(x=Xtrain , y= scale_Ytrain , batch_size = 1 , epochs = 30 , validation_data= (valX , n_valY))"
   ]
  }
 ],
 "metadata": {
  "kernelspec": {
   "display_name": "Python 3 (ipykernel)",
   "language": "python",
   "name": "python3"
  },
  "language_info": {
   "codemirror_mode": {
    "name": "ipython",
    "version": 3
   },
   "file_extension": ".py",
   "mimetype": "text/x-python",
   "name": "python",
   "nbconvert_exporter": "python",
   "pygments_lexer": "ipython3",
   "version": "3.9.16"
  }
 },
 "nbformat": 4,
 "nbformat_minor": 5
}
